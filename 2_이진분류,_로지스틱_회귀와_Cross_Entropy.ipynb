{
  "nbformat": 4,
  "nbformat_minor": 0,
  "metadata": {
    "colab": {
      "provenance": [],
      "authorship_tag": "ABX9TyN6WcdBrKVqsn38MIGQ9bXS",
      "include_colab_link": true
    },
    "kernelspec": {
      "name": "python3",
      "display_name": "Python 3"
    },
    "language_info": {
      "name": "python"
    }
  },
  "cells": [
    {
      "cell_type": "markdown",
      "metadata": {
        "id": "view-in-github",
        "colab_type": "text"
      },
      "source": [
        "<a href=\"https://colab.research.google.com/github/mymooss/Tensorflow_practice/blob/main/2_%EC%9D%B4%EC%A7%84%EB%B6%84%EB%A5%98%2C_%EB%A1%9C%EC%A7%80%EC%8A%A4%ED%8B%B1_%ED%9A%8C%EA%B7%80%EC%99%80_Cross_Entropy.ipynb\" target=\"_parent\"><img src=\"https://colab.research.google.com/assets/colab-badge.svg\" alt=\"Open In Colab\"/></a>"
      ]
    },
    {
      "cell_type": "code",
      "execution_count": 1,
      "metadata": {
        "id": "jyiq7gpxQRiL"
      },
      "outputs": [],
      "source": [
        "import matplotlib.pyplot as plt\n",
        "import pandas as pd\n",
        "import numpy as np\n",
        "from tensorflow import keras\n",
        "from tensorflow.keras import layers"
      ]
    },
    {
      "cell_type": "markdown",
      "source": [
        "**샘플 데이터 생성**"
      ],
      "metadata": {
        "id": "PJqlXaPBQ736"
      }
    },
    {
      "cell_type": "code",
      "source": [
        "#점수에 따른 합격 가능성 예측을 위한 데이터\n",
        "x = np.array([-50, -40, -35, -30, -25, -22, 10, 25, 30, 45], dtype=np.float32)\n",
        "y = np.array([0, 0, 0, 0, 0, 0, 1, 1, 1, 1], dtype=np.float32)"
      ],
      "metadata": {
        "id": "ArYdwXYrQkg5"
      },
      "execution_count": 3,
      "outputs": []
    },
    {
      "cell_type": "markdown",
      "source": [
        "**케라스 모델 생성**"
      ],
      "metadata": {
        "id": "yLB7NYdWREjs"
      }
    },
    {
      "cell_type": "code",
      "source": [
        "model = keras.Sequential([\n",
        "    layers.Dense(units=1, input_shape=[1], activation='sigmoid')\n",
        "])\n",
        "#input이 1개 들어감 (가중치와 곱해져서)\n",
        "#sigmoid는 결과가 1/1+exp(-(wx+b)) 형태\n",
        "\n",
        "init_w, init_b = model.get_weights() #초기값\n",
        "print(init_w[0])\n",
        "print(init_b)"
      ],
      "metadata": {
        "colab": {
          "base_uri": "https://localhost:8080/"
        },
        "id": "SmtUAwc5RGr5",
        "outputId": "4e5656c9-6f94-4f6e-ed21-31067e256d1a"
      },
      "execution_count": 10,
      "outputs": [
        {
          "output_type": "stream",
          "name": "stdout",
          "text": [
            "[-0.3322034]\n",
            "[0.]\n"
          ]
        }
      ]
    },
    {
      "cell_type": "markdown",
      "source": [
        "**데이터 시각화 (sigmoid)**"
      ],
      "metadata": {
        "id": "SLikn0PDSCSP"
      }
    },
    {
      "cell_type": "code",
      "source": [
        "plt.scatter(x, y)\n",
        "\n",
        "#k = np.linspace(-100, 100, 100)\n",
        "z = 1/(1 + np.exp(-(init_w[0] * x +init_b)))\n",
        "plt.plot(x, z, color = 'red')\n",
        "plt.title('init Logistic Regression')\n",
        "plt.show()"
      ],
      "metadata": {
        "colab": {
          "base_uri": "https://localhost:8080/",
          "height": 452
        },
        "id": "yR-GKJCURjpD",
        "outputId": "dfb0b8fe-c973-4d8e-d714-05ee139f96e6"
      },
      "execution_count": 11,
      "outputs": [
        {
          "output_type": "display_data",
          "data": {
            "text/plain": [
              "<Figure size 640x480 with 1 Axes>"
            ],
            "image/png": "[encoded data removed]"
          },
          "metadata": {}
        }
      ]
    },
    {
      "cell_type": "code",
      "source": [
        "# 모델 컴파일 과정\n",
        "sgd = keras.optimizers.SGD(learning_rate=0.01) # 경사하강법 learnig rate를 0.1로 설정하고\n",
        "model.compile(optimizer=sgd, loss='binary_crossentropy') # BCE를 비용함수로 설정\n",
        "#이진 분류를 하는 경우 cross entropy를 사용한다.(여러가지 오류문제로 인하여)\n",
        "#BCE = binary cross entropy\n",
        "\n",
        "# 학습\n",
        "history = model.fit(x, y, epochs=30)#30번 반복 훈련\n",
        "\n",
        "# 학습된 w, b\n",
        "w, b = model.get_weights()\n",
        "\n",
        "print(f\"\\n\\n\\n학습된 w: {w}, b: {b}\\n\\n\\n\")"
      ],
      "metadata": {
        "colab": {
          "base_uri": "https://localhost:8080/"
        },
        "id": "wL-qMJNnSd2o",
        "outputId": "138e792f-6a70-4c9f-f9cf-6d881751c21e"
      },
      "execution_count": 12,
      "outputs": [
        {
          "output_type": "stream",
          "name": "stdout",
          "text": [
            "Epoch 1/30\n",
            "1/1 [==============================] - 2s 2s/step - loss: 10.3684\n",
            "Epoch 2/30\n",
            "1/1 [==============================] - 0s 9ms/step - loss: 1.0706\n",
            "Epoch 3/30\n",
            "1/1 [==============================] - 0s 10ms/step - loss: 0.0183\n",
            "Epoch 4/30\n",
            "1/1 [==============================] - 0s 34ms/step - loss: 0.0178\n",
            "Epoch 5/30\n",
            "1/1 [==============================] - 0s 20ms/step - loss: 0.0173\n",
            "Epoch 6/30\n",
            "1/1 [==============================] - 0s 15ms/step - loss: 0.0168\n",
            "Epoch 7/30\n",
            "1/1 [==============================] - 0s 34ms/step - loss: 0.0163\n",
            "Epoch 8/30\n",
            "1/1 [==============================] - 0s 20ms/step - loss: 0.0159\n",
            "Epoch 9/30\n",
            "1/1 [==============================] - 0s 18ms/step - loss: 0.0155\n",
            "Epoch 10/30\n",
            "1/1 [==============================] - 0s 21ms/step - loss: 0.0151\n",
            "Epoch 11/30\n",
            "1/1 [==============================] - 0s 16ms/step - loss: 0.0148\n",
            "Epoch 12/30\n",
            "1/1 [==============================] - 0s 37ms/step - loss: 0.0145\n",
            "Epoch 13/30\n",
            "1/1 [==============================] - 0s 18ms/step - loss: 0.0142\n",
            "Epoch 14/30\n",
            "1/1 [==============================] - 0s 15ms/step - loss: 0.0139\n",
            "Epoch 15/30\n",
            "1/1 [==============================] - 0s 14ms/step - loss: 0.0136\n",
            "Epoch 16/30\n",
            "1/1 [==============================] - 0s 18ms/step - loss: 0.0133\n",
            "Epoch 17/30\n",
            "1/1 [==============================] - 0s 20ms/step - loss: 0.0131\n",
            "Epoch 18/30\n",
            "1/1 [==============================] - 0s 16ms/step - loss: 0.0128\n",
            "Epoch 19/30\n",
            "1/1 [==============================] - 0s 17ms/step - loss: 0.0126\n",
            "Epoch 20/30\n",
            "1/1 [==============================] - 0s 29ms/step - loss: 0.0124\n",
            "Epoch 21/30\n",
            "1/1 [==============================] - 0s 30ms/step - loss: 0.0121\n",
            "Epoch 22/30\n",
            "1/1 [==============================] - 0s 22ms/step - loss: 0.0119\n",
            "Epoch 23/30\n",
            "1/1 [==============================] - 0s 27ms/step - loss: 0.0117\n",
            "Epoch 24/30\n",
            "1/1 [==============================] - 0s 29ms/step - loss: 0.0116\n",
            "Epoch 25/30\n",
            "1/1 [==============================] - 0s 19ms/step - loss: 0.0114\n",
            "Epoch 26/30\n",
            "1/1 [==============================] - 0s 18ms/step - loss: 0.0112\n",
            "Epoch 27/30\n",
            "1/1 [==============================] - 0s 18ms/step - loss: 0.0110\n",
            "Epoch 28/30\n",
            "1/1 [==============================] - 0s 11ms/step - loss: 0.0109\n",
            "Epoch 29/30\n",
            "1/1 [==============================] - 0s 9ms/step - loss: 0.0107\n",
            "Epoch 30/30\n",
            "1/1 [==============================] - 0s 8ms/step - loss: 0.0106\n",
            "\n",
            "\n",
            "\n",
            "학습된 w: [[0.23540032]], b: [-0.00078858]\n",
            "\n",
            "\n",
            "\n"
          ]
        }
      ]
    },
    {
      "cell_type": "code",
      "source": [
        "plt.scatter(x, y)\n",
        "\n",
        "# k = np.linspace(-100, 100, 100)\n",
        "z = 1 / (1 + np.exp(-(w[0] * x + b)))\n",
        "plt.plot(x, z, color='red')\n",
        "plt.title('trained Logistic Regression')\n",
        "plt.show()"
      ],
      "metadata": {
        "colab": {
          "base_uri": "https://localhost:8080/",
          "height": 452
        },
        "id": "xyZrR-AVTxMy",
        "outputId": "9c4af567-f9b7-4872-9601-b6c8b2cec9e4"
      },
      "execution_count": 13,
      "outputs": [
        {
          "output_type": "display_data",
          "data": {
            "text/plain": [
              "<Figure size 640x480 with 1 Axes>"
            ],
            "image/png": "[encoded data removed]"
          },
          "metadata": {}
        }
      ]
    },
    {
      "cell_type": "markdown",
      "source": [
        "**모델을 활용해 새로운 데이터로 합격/불합격 확률을 예측**"
      ],
      "metadata": {
        "id": "y85nvvx7U-JO"
      }
    },
    {
      "cell_type": "code",
      "source": [
        "x_new = np.array(\n",
        "    [-50,-10, 5, 10, 20],\n",
        "    dtype=np.float32\n",
        ")\n",
        "\n",
        "y_new = np.round(model.predict(x_new), 3) \n",
        "\n",
        "print(y_new)"
      ],
      "metadata": {
        "colab": {
          "base_uri": "https://localhost:8080/"
        },
        "id": "2BzsR5E0T0K7",
        "outputId": "5374b397-f427-452f-cbe7-03af3787ee4a"
      },
      "execution_count": 14,
      "outputs": [
        {
          "output_type": "stream",
          "name": "stdout",
          "text": [
            "1/1 [==============================] - 0s 89ms/step\n",
            "[[0.   ]\n",
            " [0.087]\n",
            " [0.764]\n",
            " [0.913]\n",
            " [0.991]]\n"
          ]
        }
      ]
    },
    {
      "cell_type": "code",
      "source": [],
      "metadata": {
        "id": "yIIdFbD_T17N"
      },
      "execution_count": null,
      "outputs": []
    }
  ]
}