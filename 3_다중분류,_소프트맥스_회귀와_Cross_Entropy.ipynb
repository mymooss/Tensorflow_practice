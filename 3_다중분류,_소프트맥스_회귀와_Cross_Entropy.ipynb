{
  "nbformat": 4,
  "nbformat_minor": 0,
  "metadata": {
    "colab": {
      "provenance": [],
      "include_colab_link": true
    },
    "kernelspec": {
      "name": "python3",
      "display_name": "Python 3"
    },
    "language_info": {
      "name": "python"
    }
  },
  "cells": [
    {
      "cell_type": "markdown",
      "metadata": {
        "id": "view-in-github",
        "colab_type": "text"
      },
      "source": [
        "<a href=\"https://colab.research.google.com/github/mymooss/Tensorflow_practice/blob/main/3_%EB%8B%A4%EC%A4%91%EB%B6%84%EB%A5%98%2C_%EC%86%8C%ED%94%84%ED%8A%B8%EB%A7%A5%EC%8A%A4_%ED%9A%8C%EA%B7%80%EC%99%80_Cross_Entropy.ipynb\" target=\"_parent\"><img src=\"https://colab.research.google.com/assets/colab-badge.svg\" alt=\"Open In Colab\"/></a>"
      ]
    },
    {
      "cell_type": "code",
      "execution_count": null,
      "metadata": {
        "id": "S2cJWBTUfPfO"
      },
      "outputs": [],
      "source": [
        "import matplotlib.pyplot as plt\n",
        "import pandas as pd\n",
        "import numpy as np\n",
        "from tensorflow import keras\n",
        "from tensorflow.keras import layers"
      ]
    },
    {
      "cell_type": "markdown",
      "source": [
        "## 샘플 데이터 생성"
      ],
      "metadata": {
        "id": "dA6MD-xyJ-C2"
      }
    },
    {
      "cell_type": "code",
      "source": [
        "x = np.array([\n",
        "    [14, 5, 30],\n",
        "    [16, 6, 45],\n",
        "    [5, 5, 45],\n",
        "    [20, 6, 60],\n",
        "    [10, 7, 55],\n",
        "    [13, 10, 50],\n",
        "], dtype=np.float32)\n",
        "\n",
        "y = np.array([\n",
        "    [1,0,0], # 말티즈\n",
        "    [0,1,0], # 푸들\n",
        "    [0,0,1], # 치와와\n",
        "    [1,0,0], # 말티즈\n",
        "    [0,1,0], # 푸들\n",
        "    [0,0,1], # 치와와\n",
        "], dtype=np.float32)"
      ],
      "metadata": {
        "id": "LEL7rBU1KA29"
      },
      "execution_count": null,
      "outputs": []
    },
    {
      "cell_type": "markdown",
      "source": [
        "## 케라스 모델 생성\n",
        "자동 임의 weight 초기화  \n",
        "$$\\text{softmax}(x_i) = \\frac{\\exp(x_i)}{\\sum_{j=1}^K \\exp(x_j)}$$\n"
      ],
      "metadata": {
        "id": "YWu7V7GGfp7X"
      }
    },
    {
      "cell_type": "code",
      "source": [
        "model = keras.Sequential([\n",
        "    layers.Dense(units=3, input_shape=[3], activation='softmax')\n",
        "])\n",
        "\n",
        "print(model.get_weights())"
      ],
      "metadata": {
        "id": "e0Wf3eIgf7Yq",
        "colab": {
          "base_uri": "https://localhost:8080/"
        },
        "outputId": "41985375-0fcc-4a31-889b-b2d91d8f8eb9"
      },
      "execution_count": null,
      "outputs": [
        {
          "output_type": "stream",
          "name": "stdout",
          "text": [
            "[array([[-0.7645302 , -0.17679787,  0.34179282],\n",
            "       [-0.68803215, -0.61289644, -0.15617657],\n",
            "       [-0.661716  , -0.40530252, -0.33841705]], dtype=float32), array([0., 0., 0.], dtype=float32)]\n"
          ]
        }
      ]
    },
    {
      "cell_type": "markdown",
      "source": [
        "### 만약, 데이터를 잘 표현할 수 있는 소프트맥스 함수의 가중치를 찾고 싶다면..\n",
        "배운대로, cross entropy를 비용함수로 설정하고 Gradient Decent를 사용하여 모델을 학습시킨 다음, 적합한 가중치를 찾아낼 수 있다.  \n",
        "\n",
        "다중 분류인 경우 사용하는 cross entropy를 categorical cross entropy라고 부른다.  \n",
        "$$ CE = -\\frac{1}{N} \\sum_{i=1}^{N} y_{i} \\log(\\hat{y}{i}) $$"
      ],
      "metadata": {
        "id": "LsWt9YTQgvTu"
      }
    },
    {
      "cell_type": "code",
      "source": [
        "# 모델 컴파일 과정\n",
        "sgd = keras.optimizers.SGD(learning_rate=0.01) # 경사하강법 learnig rate를 0.1로 설정하고\n",
        "model.compile(optimizer=sgd, loss='categorical_crossentropy') # CCE를 비용함수로 설정\n",
        "\n",
        "# 학습\n",
        "history = model.fit(x, y, epochs=5)\n",
        "\n",
        "# loss 시각화\n",
        "plt.plot(history.history['loss'])\n",
        "plt.title('Model Loss')\n",
        "plt.xlabel('Epoch')\n",
        "plt.ylabel('Loss')\n",
        "plt.show()"
      ],
      "metadata": {
        "id": "A3a_pfQFg7EW",
        "colab": {
          "base_uri": "https://localhost:8080/",
          "height": 482
        },
        "outputId": "32512dad-d28a-484c-950e-91ae7b1c9d9d"
      },
      "execution_count": null,
      "outputs": [
        {
          "output_type": "stream",
          "name": "stdout",
          "text": [
            "Epoch 1/5\n",
            "1/1 [==============================] - 1s 582ms/step - loss: 16.4453\n",
            "Epoch 2/5\n",
            "1/1 [==============================] - 0s 11ms/step - loss: 11.9781\n",
            "Epoch 3/5\n",
            "1/1 [==============================] - 0s 8ms/step - loss: 8.0985\n",
            "Epoch 4/5\n",
            "1/1 [==============================] - 0s 10ms/step - loss: 6.6024\n",
            "Epoch 5/5\n",
            "1/1 [==============================] - 0s 6ms/step - loss: 5.5992\n"
          ]
        },
        {
          "output_type": "display_data",
          "data": {
            "text/plain": [
              "<Figure size 432x288 with 1 Axes>"
            ],
            "image/png": "[encoded data removed]"
          },
          "metadata": {
            "needs_background": "light"
          }
        }
      ]
    },
    {
      "cell_type": "code",
      "source": [
        "# 새로운 데이터를 통한 label 예측\n",
        "x_new = np.array([[12, 6, 35], [8, 5, 50]], dtype=np.float32)\n",
        "y_pred = np.round(model.predict(x_new), 3) \n",
        "\n",
        "# 모델이 예측한 label print\n",
        "print(y_pred)"
      ],
      "metadata": {
        "id": "UP-zBYRGgOE-",
        "colab": {
          "base_uri": "https://localhost:8080/"
        },
        "outputId": "dc1d8fdc-7411-46ac-a7a3-5b77b6cf1be7"
      },
      "execution_count": null,
      "outputs": [
        {
          "output_type": "stream",
          "name": "stdout",
          "text": [
            "1/1 [==============================] - 0s 63ms/step\n",
            "[[0.014 0.    0.986]\n",
            " [0.944 0.    0.056]]\n"
          ]
        }
      ]
    },
    {
      "cell_type": "code",
      "source": [],
      "metadata": {
        "id": "oyOm1KgaQ9n-"
      },
      "execution_count": null,
      "outputs": []
    }
  ]
}